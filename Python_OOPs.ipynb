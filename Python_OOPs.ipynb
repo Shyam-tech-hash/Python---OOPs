{
  "nbformat": 4,
  "nbformat_minor": 0,
  "metadata": {
    "colab": {
      "provenance": []
    },
    "kernelspec": {
      "name": "python3",
      "display_name": "Python 3"
    },
    "language_info": {
      "name": "python"
    }
  },
  "cells": [
    {
      "cell_type": "markdown",
      "source": [
        "Solutions :"
      ],
      "metadata": {
        "id": "lz0Yl1dqvB0j"
      }
    },
    {
      "cell_type": "markdown",
      "source": [
        "                                 OOPS ASSIGNMENT\n",
        "\n",
        "\n",
        "1.  What is Object-Oriented Programming (OOP)?\n",
        "\n",
        "->Object-Oriented Programming (OOP) is a programming paradigm (or style of coding) that organizes software design around objects rather than just functions and logic.\n",
        "\n",
        "An object is a collection of data (attributes) and methods (functions that operate on the data).\n",
        "\n",
        "OOP is widely used because it makes code modular, reusable, and easier to maintain.\n",
        "\n",
        "2. What is a class in OOP ?\n",
        "\n",
        "-> A class in Object-Oriented Programming (OOP) is a blueprint or template for creating objects.\n",
        "\n",
        "It defines the attributes (data/properties) and methods (functions/behaviors) that the objects created from it will have.\n",
        "\n",
        "3.  What is an object in OOP?\n",
        "\n",
        "->An object in Object-Oriented Programming (OOP) is a real-world entity or a runtime instance of a class.\n",
        "\n",
        "If a class is a blueprint, then an object is the actual product built from that blueprint.\n",
        "\n",
        "* Key Points about an Object:\n",
        "\n",
        " * Objects are created from classes.\n",
        "\n",
        " * Each object has:\n",
        "\n",
        "Attributes (data/properties) → describe the object.\n",
        "\n",
        "Methods (functions/behaviors) → define what the object can do.\n",
        "\n",
        "* Multiple objects can be created from the same class, each with its own unique values.\n",
        "\n",
        "4.  What is the difference between abstraction and encapsulation?\n",
        "\n",
        "->Abstraction and encapsulation are fundamental concepts in object-oriented programming, often confused due to their related roles in managing complexity and promoting maintainability. However, they serve distinct purposes:\n",
        "\n",
        "* Abstraction\n",
        "focuses on what an object does, providing a simplified view of a complex system by hiding unnecessary implementation details and exposing only the essential functionalities. It allows you to define the interface or contract of an object without specifying how those functionalities are achieved. This is often accomplished through abstract classes and interfaces.\n",
        "\n",
        "* Encapsulation\n",
        "focuses on how an object manages its internal state and behavior. It involves bundling data (attributes) and the methods that operate on that data within a single unit (a class) and restricting direct access to the internal state. This control is typically achieved through access modifiers (like private or protected) and providing controlled access via public methods (getters and setters). Encapsulation ensures data integrity and protects the internal state from unauthorized external modification.\n",
        "\n",
        "5.  What are dunder methods in Python?\n",
        "\n",
        "-> Dunder methods, also known as magic methods or special methods, are a core part of Python's object model. They are distinguished by their names, which begin and end with double underscores (e.g., __init__, __str__, __add__).\n",
        "\n",
        "* Key characteristics and uses of dunder methods:\n",
        "\n",
        "* Automatic Invocation:\n",
        "Dunder methods are not typically called directly by the programmer. Instead, they are automatically invoked by Python's built-in operations and functions when certain actions occur involving objects. For example, when you use the + operator on two objects, Python internally calls the __add__ dunder method of the first object.\n",
        "\n",
        "* MOperator Overloading:\n",
        "They enable operator overloading, allowing you to define how standard operators (like +, -, *, ==, []) behave when applied to instances of your custom classes. This makes your custom objects behave more like built-in types.\n",
        "\n",
        "6.  Explain the concept of inheritance in OOP.\n",
        "\n",
        "->Inheritance in Object-Oriented Programming (OOP) is a fundamental concept that allows a class to acquire the properties and behaviors (attributes and methods) of another class. This mechanism promotes code reusability and establishes a hierarchical \"is-a\" relationship between classes.\n",
        "\n",
        "* Key Concepts:\n",
        "\n",
        "Base Class (Parent/Superclass): The class whose properties and methods are inherited.\n",
        "\n",
        "Derived Class (Child/Subclass): The class that inherits from the base class. It can also add its own unique properties and methods or override inherited ones.\n",
        "\n",
        "7.  What is polymorphism in OOP?\n",
        "\n",
        "->Polymorphism in object-oriented programming (OOP) is the ability of an object, method, or interface to take on multiple forms or behave in different ways depending on the context or the specific object type it's interacting with. The term \"polymorphism\" itself means \"many-shaped\" from the Greek words poly (many) and morph (forms). This key OOP principle allows for more flexible, adaptable, and reusable code by enabling you to write generic algorithms that can operate on different object types, making programs more efficient and easier to maintain.\n",
        "\n",
        "8.  How is encapsulation achieved in Python?\n",
        "\n",
        "-> Encapsulation in Python is achieved through conventions and name mangling, rather than strict access modifiers like those found in other object-oriented languages (e.g., Java's private, protected).\n",
        "Here's how it's typically implemented:\n",
        "\n",
        "* Bundling Data and Methods:\n",
        "Encapsulation begins by defining a class that groups related data (attributes) and the functions (methods) that operate on that data into a single unit.\n",
        "\n",
        "* Access Conventions:\n",
        " Public Members: By default, all attributes and methods in a Python class are considered public. They can be accessed directly from outside the class using the dot operator (.).\n",
        "\n",
        " Protected Members (Convention): A single leading underscore (_) before an attribute or method name is a widely accepted convention to indicate that the member is intended for internal use within the class or its subclasses. While still technically accessible from outside, this signals to other developers that direct access is discouraged.\n",
        "\n",
        " Private Members (Name Mangling): A double leading underscore (__) triggers Python's name mangling mechanism. When an attribute or method is prefixed with __, Python internally renames it to _ClassName__memberName (e.g., __salary in a Employee class becomes _Employee__salary). This makes it harder to directly access from outside the class, effectively providing a form of privacy.\n",
        "\n",
        " 9.  What is a constructor in Python?\n",
        "\n",
        " ->In Python, a constructor is a special method used to initialize new objects of a class. When an object (or instance) of a class is created, the constructor is automatically invoked. Its primary purpose is to set up the initial state of the object by assigning values to its attributes or performing any necessary setup logic.\n",
        "\n",
        " * Python's constructor method is always named __init__. It is a part of the class definition and can accept parameters, allowing for the initialization of object attributes with specific values provided during object creation. The first parameter of __init__ is conventionally named self, which refers to the instance of the class being created.\n",
        "\n",
        " 10.  What are class and static methods in Python?\n",
        "\n",
        " -> In Python, both class methods and static methods are defined within a class but differ in their relationship to the class instance and class state.\n",
        "\n",
        "* Class Methods:\n",
        "Definition: Defined using the @classmethod decorator.\n",
        "First Argument: Takes the class itself as its first argument, conventionally named cls.\n",
        "Purpose: Can access and modify class variables and perform operations related to the entire class, not a specific instance. They are often used for alternative constructors or factory methods that create instances of the class.\n",
        "\n",
        "* Static Methods:\n",
        "Definition: Defined using the @staticmethod decorator.\n",
        "Arguments: Does not take self (instance) or cls (class) as an implicit first argument. It behaves like a regular function, but is logically grouped within the class.\n",
        "Purpose: Used for utility functions that perform operations logically related to the class but do not depend on the state of the class or any specific instance. They cannot access or modify instance or class variables directly without explicit passing.\n",
        "\n",
        "11. What is method overloading in Python?\n",
        "\n",
        "-> Method overloading in Python refers to the concept where a single method name can perform different operations based on the number or type of arguments passed to it. Unlike some other programming languages (like Java or C++), Python does not support traditional method overloading where you define multiple methods with the same name but different parameter lists.\n",
        "Instead, Python achieves similar functionality through its flexible argument handling mechanisms:\n",
        "Default Arguments: You can assign default values to parameters, allowing the method to be called with or without providing those specific arguments.\n",
        "\n",
        "12.  What is method overriding in OOP?\n",
        "\n",
        "-> Method overriding in OOP is a mechanism where a subclass provides a specific implementation for a method that is already defined in its superclass. This process, also known as runtime polymorphism, enables a child class to redefine inherited behaviors while maintaining the same method signature (name, return type, and parameters) as the parent class method. It allows for specialized behavior and is a core component of inheritance and polymorphism.\n",
        "\n",
        "13. What is a property decorator in Python?\n",
        "\n",
        "-> The @property decorator in Python is a built-in decorator that allows you to define methods within a class that can be accessed like attributes, rather than requiring explicit method calls. It provides a \"Pythonic\" way to implement getters, setters, and deleters for class attributes, enabling controlled access and encapsulation.\n",
        "Here's how it works:\n",
        "\n",
        "* @property (Getter):\n",
        "When applied to a method, @property turns that method into a \"getter.\" This means you can access the return value of that method as if it were a direct attribute of the object, without using parentheses. This method typically returns the value of an internal, often \"private\" (conventionally prefixed with an underscore, e.g., _attribute_name), attribute.\n",
        "\n",
        "* @<property-name>.setter (Setter):\n",
        "This decorator is used in conjunction with a @property decorated method. It allows you to define a \"setter\" method that is automatically called when you attempt to assign a new value to the property. This method can include logic for validation or other operations before updating the internal attribute.\n",
        "\n",
        "* @<property-name>.deleter (Deleter):\n",
        "Also used with a @property decorated method, this decorator defines a \"deleter\" method that is invoked when you use the del keyword on the property. This allows for custom cleanup or removal logic when the attribute is deleted.\n",
        "\n",
        "14.  Why is polymorphism important in OOP?\n",
        "\n",
        "-> Polymorphism is a fundamental concept in Object-Oriented Programming (OOP) and offers several key advantages:\n",
        "\n",
        "* Code Reusability and Maintainability:\n",
        "Polymorphism allows you to write generic code that can operate on objects of different types, as long as they share a common interface or base class. This reduces code duplication, as you can define methods once in a superclass and have subclasses inherit and potentially override them, making the codebase easier to maintain and modify.\n",
        "\n",
        "* Flexibility and Extensibility:\n",
        "It enables the creation of flexible and adaptable systems. You can add new subclasses or implementations without significantly altering existing code, promoting extensibility and making it easier to introduce new features or modify existing ones.\n",
        "\n",
        "* Simplified Code Structure:\n",
        "Polymorphism helps in organizing code by allowing you to focus on a parent class or interface rather than managing many special cases for individual subclasses. This leads to cleaner, more readable, and more manageable code.\n",
        "\n",
        "15.  What is an abstract class in Python?\n",
        "\n",
        "->In Python, an abstract class is a class that cannot be instantiated directly and serves as a blueprint for other classes. It defines a common interface or a set of rules that its subclasses must adhere to.\n",
        "Here are the key characteristics of an abstract class in Python:\n",
        "\n",
        "* Cannot be instantiated:\n",
        "You cannot create an object directly from an abstract class. Attempting to do so will raise a TypeError.\n",
        "\n",
        " * Contains abstract methods:\n",
        "An abstract class typically includes one or more abstract methods. An abstract method is a method declared in the abstract class but without an implementation (body). Subclasses are then required to provide the concrete implementation for these abstract methods.\n",
        "\n",
        "* Enforces a structure:\n",
        "Abstract classes are used to enforce a specific structure or contract among a group of related classes. By defining abstract methods, you ensure that any class inheriting from the abstract class will implement those methods, promoting consistency and predictable behavior.\n",
        "\n",
        "16.  What are the advantages of OOP?\n",
        "\n",
        "-> The main advantages of Object-Oriented Programming (OOP) are Modularity, Code Reusability, Flexibility (through polymorphism), Maintainability, Security (via encapsulation and abstraction), and improved Productivity. OOP simplifies complex projects by organizing code into self-contained objects, allows developers to reuse existing code, and makes systems easier to debug, update, and scale.\n",
        "Modularity\n",
        "Independent Units:\n",
        "OOP breaks down a large program into smaller, self-contained objects, making the system easier to manage, understand, and troubleshoot.\n",
        "Facilitates Collaboration:\n",
        "Each object can be developed and maintained independently by different developers, improving team collaboration.\n",
        "Code Reusability\n",
        "Inheritance:\n",
        "Through inheritance, new classes can be derived from existing ones, allowing developers to reuse code and reduce redundant writing.\n",
        "Efficiency:\n",
        "Reusable code saves development time and effort, contributing to higher productivity.\n",
        "\n",
        "17.  What is the difference between a class variable and an instance variable?\n",
        "\n",
        "-> The primary distinction between a class variable and an instance variable lies in their scope, ownership, and how they are accessed and modified.\n",
        "Class Variable:\n",
        "\n",
        "* Definition:\n",
        "A class variable is declared within a class but outside of any method. It is shared by all instances of that class.\n",
        "\n",
        "* Ownership:\n",
        "It belongs to the class itself, not to any particular object.\n",
        "\n",
        "* Access:\n",
        "Can be accessed directly using the class name (e.g., ClassName.class_variable) or through an instance (e.g., instance_name.class_variable).\n",
        "\n",
        "* Modification:\n",
        "Changes to a class variable affect all instances of the class, as they all share the same variable.\n",
        "\n",
        "* Use Cases:\n",
        "Suitable for storing data that is common to all objects of a class, such as constants, counters for the number of instances created, or shared configuration settings.\n",
        "\n",
        "Instance Variable:\n",
        "\n",
        "* Definition:\n",
        "An instance variable is declared within a method (typically the constructor, __init__ in Python) and is associated with a specific instance of the class.\n",
        "\n",
        "* Ownership:\n",
        "It belongs to individual objects (instances) of the class. Each instance has its own copy of the instance variables.\n",
        "\n",
        "* Access:\n",
        "Accessed using an instance of the class (e.g., instance_name.instance_variable).\n",
        "\n",
        "* Modification:\n",
        "Changes to an instance variable only affect that particular instance, as each instance maintains its own separate copy.\n",
        "\n",
        "* Use Cases:\n",
        "Ideal for storing data that is unique to each object, representing its specific state or attributes (e.g., name, age, ID number of an individual).\n",
        "\n",
        "18.  What is multiple inheritance in Python?\n",
        "\n",
        "-> Multiple inheritance in Python is a feature that allows a class to inherit attributes and methods from more than one parent class. This means a single child class can combine functionalities and characteristics from several distinct base classes.\n",
        "Key aspects of multiple inheritance in Python:\n",
        "\n",
        "* Syntax: When defining a class that uses multiple inheritance, the parent classes are listed within the parentheses after the child class name, separated by commas.\n",
        "\n",
        "* Method Resolution Order (MRO):\n",
        "When a method or attribute is called on an instance of a class that uses multiple inheritance, Python follows a specific order to search for that method or attribute in the inheritance hierarchy. This order is known as the Method Resolution Order (MRO). The MRO is determined using the C3 linearization algorithm and can be inspected using ClassName.mro() or help(ClassName).\n",
        "\n",
        "* Advantages:\n",
        "Code Reusability: It promotes code reuse by allowing a class to leverage existing functionalities from multiple sources without duplicating code.\n",
        "Combining Behaviors: It enables the creation of classes that possess a combination of behaviors from different specialized parent classes.\n",
        "\n",
        "19.  Explain the purpose of ‘’__str__’ and ‘__repr__’ ‘ methods in Python.\n",
        "\n",
        "-> In Python, __str__ and __repr__ are special \"dunder\" (double underscore) methods that define how an object is represented as a string. They serve different purposes and are aimed at different audiences:\n",
        "\n",
        "* __str__(self):\n",
        "Purpose: To provide an \"informal\" or \"user-friendly\" string representation of an object.\n",
        "Audience: End-users or for display purposes (e.g., when using print() or str()).\n",
        "Characteristics: Should be easily readable and understandable by someone who may not be familiar with the code's internal structure. It often presents a concise summary of the object's key attributes.\n",
        "\n",
        "* __repr__(self):\n",
        "Purpose: To provide an \"official\" or \"developer-friendly\" string representation of an object.\n",
        "Audience: Developers, for debugging, logging, or for recreating the object.\n",
        "Characteristics: Should be unambiguous and, ideally, allow for the reconstruction of the object. This means it should contain enough information to uniquely identify the object and its state. When possible, the output of repr() should be a valid Python expression that, when evaluated, would create an equivalent object.\n",
        "\n",
        "20. What is the significance of the ‘super()’ function in Python?\n",
        "\n",
        "->The super() function in Python holds significant importance in object-oriented programming, particularly when dealing with inheritance. Its primary purpose is to provide a way to access methods and properties of a parent or sibling class from within a child or subclass.\n",
        "Here's a breakdown of its significance:\n",
        "\n",
        "* Enabling Method Overriding and Extension:\n",
        "super() allows a subclass to override a method inherited from its parent class while still being able to call the parent's version of that method. This enables extending the parent's functionality rather than completely replacing it. For example, a subclass's __init__ method can call super().__init__() to ensure the parent's initialization is performed before adding subclass-specific attributes.\n",
        "\n",
        "* Facilitating Code Reusability:\n",
        "By allowing access to parent class methods, super() promotes code reusability. Instead of duplicating code from the parent in the child class, super() can be used to invoke the existing implementation, leading to more concise and maintainable code.\n",
        "\n",
        "* Managing Complex Inheritance Hierarchies (especially Multiple Inheritance):\n",
        "In scenarios involving multiple inheritance, super() becomes crucial for correctly navigating the Method Resolution Order (MRO). It ensures that methods are called in the correct sequence as defined by the MRO, preventing issues and ensuring proper behavior when a method exists in multiple parent classes.\n",
        "\n",
        "21.  What is the significance of the __del__ method in Python?\n",
        "\n",
        "-> The __del__ method in Python, often referred to as a destructor, holds significance in object lifecycle management, particularly for resource cleanup.\n",
        "Significance:\n",
        "\n",
        "* Resource Management:\n",
        "The primary purpose of __del__ is to provide a hook for performing cleanup actions when an object is about to be destroyed. This is crucial for releasing external resources held by the object, such as:\n",
        "Closing open file handles.\n",
        "Terminating network connections.\n",
        "Releasing database connections.\n",
        "Deallocating memory for C extensions.\n",
        "\n",
        "* Destructor-like Behavior:\n",
        "It mimics the behavior of destructors in other object-oriented languages like C++ or Java, allowing for a defined cleanup routine before an object's memory is reclaimed by the garbage collector.\n",
        "\n",
        "* Automatic Invocation:\n",
        "Unlike regular methods, __del__ is not called directly by the programmer. Instead, it is automatically invoked by the Python interpreter when an object's reference count drops to zero and the object is eligible for garbage collection.\n",
        "\n",
        "22. What is the difference between @staticmethod and @classmethod in Python?\n",
        "\n",
        "-> The primary difference between @staticmethod and @classmethod in Python lies in their access to the class and its instances.\n",
        "\n",
        "* @classmethod:\n",
        "Takes cls as the first argument:\n",
        "A class method receives the class itself as its first parameter, conventionally named cls. This allows the method to access and modify class-level attributes and call other class methods.\n",
        "Can access and modify class state:\n",
        "Because it receives cls, a class method can interact with the class's attributes and potentially change the class's state, affecting all instances.\n",
        "Commonly used for factory methods:\n",
        "Class methods are frequently employed to create alternative constructors or factory methods that return instances of the class based on different input parameters or conditions.\n",
        "\n",
        "* @staticmethod:\n",
        "Does not take self or cls as an argument:\n",
        "A static method does not receive any special first argument like self (for instance methods) or cls (for class methods).\n",
        "Cannot access or modify class or instance state:\n",
        "Due to the lack of self or cls, static methods cannot directly access or modify class-level attributes or instance-specific data.\n",
        "Used for utility functions:\n",
        "Static methods are typically used for utility functions that are logically related to the class but do not require any knowledge of the class's state or its instances. They behave like regular functions but are encapsulated within the class's namespace.\n",
        "\n",
        "23.  How does polymorphism work in Python with inheritance?\n",
        "\n",
        "-> Polymorphism in Python, when combined with inheritance, primarily manifests through method overriding. This allows subclasses to provide their own specific implementations of methods that are already defined in their superclass.\n",
        "Here's how it works:\n",
        "Inheritance:\n",
        "A subclass inherits methods and attributes from its superclass. This means the subclass initially possesses the same methods as its parent.\n",
        "Method Overriding:\n",
        "If a subclass needs to perform a method differently than its superclass, it can redefine that method with the same name. This redefinition in the subclass is called method overriding. When an instance of the subclass calls this method, the overridden version in the subclass is executed, rather than the superclass's version.\n",
        "Polymorphic Behavior:\n",
        "Because of method overriding, objects of different classes (the superclass and its subclasses) can respond to the same method call in different ways, depending on their specific implementation. This allows for a single interface (the method name) to be used with multiple types of objects, each exhibiting its own distinct behavior.\n",
        "\n",
        "24.  What is method chaining in Python OOP?\n",
        "\n",
        "-> Method chaining in Python Object-Oriented Programming (OOP) is a technique that allows multiple methods to be called sequentially on a single object in a concise and readable manner. This is achieved by having each method in the chain return the object itself (or a modified version of it), enabling subsequent method calls to be made directly on the returned object.\n",
        "Key characteristics of method chaining:\n",
        "\n",
        "* Return self:\n",
        "For methods to be chainable, they must return the instance of the object they are called upon. In Python, this is typically done by returning self at the end of the method's execution.\n",
        "\n",
        "* Conciseness and readability:\n",
        "Method chaining reduces the need for intermediate variables to store the results of each method call, leading to more compact and often more readable code.\n",
        "\n",
        "* Fluent API:\n",
        "It contributes to creating a \"fluent API,\" where the sequence of operations reads more like a natural language sentence, enhancing code expressiveness.\n",
        "\n",
        "25.  What is the purpose of the __call__ method in Python?\n",
        "\n",
        "-> The purpose of the __call__ method in Python is to make instances of a class callable, meaning they can be invoked like functions.\n",
        "When the __call__ method is defined within a class, and an instance of that class is subsequently called using parentheses (e.g., my_object()), the __call__ method of that instance is automatically executed. This allows objects to encapsulate both data and behavior in a way that makes them behave like functions, providing a more flexible and dynamic approach to object-oriented programming.\n",
        "This functionality is useful in scenarios where an object needs to represent an operation or a function-like entity, while also maintaining its state and attributes as an object.\n"
      ],
      "metadata": {
        "id": "p09td4GRvIn-"
      }
    },
    {
      "cell_type": "code",
      "source": [
        "#1.\n",
        "class Animal:\n",
        "    def speak(self):\n",
        "        print (\"Make Sounds\")\n",
        "\n",
        "class Dog(Animal):\n",
        "    def speak(self):\n",
        "        print(\"Barks\")\n",
        "\n",
        "obj = Dog()\n",
        "obj.speak()"
      ],
      "metadata": {
        "colab": {
          "base_uri": "https://localhost:8080/"
        },
        "id": "xQT3JQ0wyiYk",
        "outputId": "5f94aadf-b989-4d49-ab2c-96b0e19af2df"
      },
      "execution_count": 1,
      "outputs": [
        {
          "output_type": "stream",
          "name": "stdout",
          "text": [
            "Barks\n"
          ]
        }
      ]
    },
    {
      "cell_type": "code",
      "source": [
        "#2.\n",
        "from abc import ABC ,abstractmethod\n",
        "import math\n",
        "\n",
        "class shape(ABC):\n",
        "  @abstractmethod\n",
        "  def area(self):\n",
        "    pass\n",
        "\n",
        "class circle(shape):\n",
        "  def __init__(self,radius):\n",
        "    self.radius = radius\n",
        "\n",
        "  def area(self):\n",
        "    return  math.pi* self.radius**2\n",
        "\n",
        "class Rectangle(shape):\n",
        "  def __init__(self,length,breadth):\n",
        "    self.length = length\n",
        "    self.breadth = breadth\n",
        "\n",
        "  def area(self):\n",
        "    return self.length*self.breadth\n",
        "\n",
        "\n",
        "c1 = circle(5)\n",
        "print(c1.area())\n",
        "\n",
        "r1 = Rectangle(10,5)\n",
        "print(r1.area())"
      ],
      "metadata": {
        "colab": {
          "base_uri": "https://localhost:8080/"
        },
        "id": "6RBfABv_y_TV",
        "outputId": "0de9ad70-88b4-4548-fce7-0e594736c883"
      },
      "execution_count": 2,
      "outputs": [
        {
          "output_type": "stream",
          "name": "stdout",
          "text": [
            "78.53981633974483\n",
            "50\n"
          ]
        }
      ]
    },
    {
      "cell_type": "code",
      "source": [
        "#3.\n",
        "class Vehicle:\n",
        "    def __init__(self,vtype):\n",
        "        self.vtype = vtype\n",
        "\n",
        "class Car(Vehicle):\n",
        "    def __init__(self,vtype,brand):\n",
        "        Vehicle.__init__(self,vtype)\n",
        "        self.brand = brand\n",
        "\n",
        "class Electric_car(Car):\n",
        "    def __init__(self,vtype,brand,battery):\n",
        "        Car.__init__(self,vtype,brand)\n",
        "        self.battery = battery\n",
        "\n",
        "ecar = Electric_car(\"Four wheeler\",\"Tesla\",\"100kwh\")\n",
        "print(ecar.vtype)\n",
        "print(ecar.brand)\n",
        "print(ecar.battery)"
      ],
      "metadata": {
        "colab": {
          "base_uri": "https://localhost:8080/"
        },
        "id": "9vVRGRFzzLaj",
        "outputId": "90b0c03d-3304-4a7a-da3f-f8ecf1e87d56"
      },
      "execution_count": 3,
      "outputs": [
        {
          "output_type": "stream",
          "name": "stdout",
          "text": [
            "Four wheeler\n",
            "Tesla\n",
            "100kwh\n"
          ]
        }
      ]
    },
    {
      "cell_type": "code",
      "source": [
        "#4.\n",
        "class Bird:\n",
        "    def fly(self):\n",
        "        print (\"Birds can fly\")\n",
        "\n",
        "class Sparrow(Bird):\n",
        "    def fly(self):\n",
        "        print (\"Sparrow can fly high\")\n",
        "\n",
        "class Penguin(Bird):\n",
        "    def fly(self):\n",
        "        print (\"penguins cannot fly \")\n",
        "\n",
        "obj1 = Sparrow()\n",
        "obj1.fly()\n",
        "obj2  = Penguin()\n",
        "obj2.fly()"
      ],
      "metadata": {
        "colab": {
          "base_uri": "https://localhost:8080/"
        },
        "id": "7GV2RlMCzbI4",
        "outputId": "ba9aba62-f6f9-4e79-a55e-4a63af1e2eb1"
      },
      "execution_count": 4,
      "outputs": [
        {
          "output_type": "stream",
          "name": "stdout",
          "text": [
            "Sparrow can fly high\n",
            "penguins cannot fly \n"
          ]
        }
      ]
    },
    {
      "cell_type": "code",
      "source": [
        "#5.\n",
        "class BankAccount:\n",
        "    def __init__(self,balance):\n",
        "        self.__balance = balance\n",
        "\n",
        "    def Deposit(self,amount):\n",
        "        self.__balance += amount\n",
        "\n",
        "    def Withdraw(self,amount):\n",
        "        if amount <= self.__balance:\n",
        "            self.__balance -= amount\n",
        "        else:\n",
        "            print(\"Insufficient balance\")\n",
        "\n",
        "    def get_balance(self):\n",
        "        return self.__balance\n",
        "\n",
        "acc1 = BankAccount(50000)\n",
        "acc1.Deposit(10000)\n",
        "print (acc1.get_balance())\n",
        "\n",
        "acc2 = BankAccount(5000)\n",
        "acc2.Withdraw(1000)\n",
        "print(acc2.get_balance())"
      ],
      "metadata": {
        "colab": {
          "base_uri": "https://localhost:8080/"
        },
        "id": "qxMeFN10zlod",
        "outputId": "85218eff-a3c5-4124-803a-f1bdbf08390c"
      },
      "execution_count": 5,
      "outputs": [
        {
          "output_type": "stream",
          "name": "stdout",
          "text": [
            "60000\n",
            "4000\n"
          ]
        }
      ]
    },
    {
      "cell_type": "code",
      "source": [
        "#6.\n",
        "class Instrument:\n",
        "    def play(self):\n",
        "        print(\"Instrument is used for playing sounds\")\n",
        "\n",
        "class Piano(Instrument):\n",
        "    def play(self):\n",
        "        print (\"Piano is for playing a tune\")\n",
        "\n",
        "class Guitar(Instrument):\n",
        "    def play(self):\n",
        "        print(\"Guitar is for playing a melody\")\n",
        "\n",
        "Music = Piano()\n",
        "Music.play()\n",
        "music2 = Guitar()\n",
        "music2.play()"
      ],
      "metadata": {
        "colab": {
          "base_uri": "https://localhost:8080/"
        },
        "id": "ODMWhJ8B0CJh",
        "outputId": "c626f383-9fe4-4773-8867-2cb3ff312840"
      },
      "execution_count": 7,
      "outputs": [
        {
          "output_type": "stream",
          "name": "stdout",
          "text": [
            "Piano is for playing a tune\n",
            "Guitar is for playing a melody\n"
          ]
        }
      ]
    },
    {
      "cell_type": "code",
      "source": [
        "#7.\n",
        "class MathOperations:\n",
        "    @classmethod\n",
        "    def add_numbers (cls,a,b):\n",
        "        return a+b\n",
        "\n",
        "    @staticmethod\n",
        "    def subtract_numbers (a,b):\n",
        "        return a-b\n",
        "\n",
        "print(MathOperations.add_numbers(5,2))\n",
        "print(MathOperations.subtract_numbers(5,3))"
      ],
      "metadata": {
        "colab": {
          "base_uri": "https://localhost:8080/"
        },
        "id": "VBodRSex0SIe",
        "outputId": "746bb88e-fa7a-4ab9-b416-2e4d0cc27d9d"
      },
      "execution_count": 8,
      "outputs": [
        {
          "output_type": "stream",
          "name": "stdout",
          "text": [
            "7\n",
            "2\n"
          ]
        }
      ]
    },
    {
      "cell_type": "code",
      "source": [
        "#8.\n",
        "class Person:\n",
        "    count = 0\n",
        "    def __init__(self,name):\n",
        "        self.name = name\n",
        "        Person.count += 1\n",
        "\n",
        "    @classmethod\n",
        "    def total_persons(cls):\n",
        "        return cls.count\n",
        "\n",
        "p1 = Person(\"Shyam\")\n",
        "p2 = Person(\"Vicky\")\n",
        "p3 = Person(\"Parth\")\n",
        "p4 = Person(\"Rohan\")\n",
        "\n",
        "print (Person.total_persons())"
      ],
      "metadata": {
        "colab": {
          "base_uri": "https://localhost:8080/"
        },
        "id": "n-lu6F_J0ai-",
        "outputId": "5b84dd96-6ab2-4952-869b-75f65bb144e6"
      },
      "execution_count": 9,
      "outputs": [
        {
          "output_type": "stream",
          "name": "stdout",
          "text": [
            "4\n"
          ]
        }
      ]
    },
    {
      "cell_type": "code",
      "source": [
        "#9.\n",
        "class Fraction:\n",
        "    def __init__(self,numerator,denominator):\n",
        "        self.numerator = numerator\n",
        "        self.denominator = denominator\n",
        "\n",
        "    def __str__(self):\n",
        "        if self.denominator == 0:\n",
        "            return \"Invalid Fraction\"\n",
        "        return f\"{self.numerator}/{self.denominator}\"\n",
        "\n",
        "f1 =Fraction(3,5)\n",
        "f2 =Fraction (10,5)\n",
        "\n",
        "print (f1)\n",
        "print (f2)"
      ],
      "metadata": {
        "colab": {
          "base_uri": "https://localhost:8080/"
        },
        "id": "giG24M9_0kqU",
        "outputId": "73615d4a-b337-47f2-a0d3-67fe31e93a1f"
      },
      "execution_count": 10,
      "outputs": [
        {
          "output_type": "stream",
          "name": "stdout",
          "text": [
            "3/5\n",
            "10/5\n"
          ]
        }
      ]
    },
    {
      "cell_type": "code",
      "source": [
        "#10.\n",
        "class vector:\n",
        "  def __init__(self,x,y):\n",
        "    self.x = x\n",
        "    self.y = y\n",
        "\n",
        "  def __add__(self,other):\n",
        "    return vector(self.x+other.x,self.y + other.y)\n",
        "\n",
        "  def __str__(self):\n",
        "    return f\"{self.x},{self.y}\"\n",
        "\n",
        "\n",
        "v1 = vector(1,2)\n",
        "v2 = vector(3,4)\n",
        "v3 = v1 + v2\n",
        "\n",
        "print(v3)"
      ],
      "metadata": {
        "colab": {
          "base_uri": "https://localhost:8080/"
        },
        "id": "1S3HKsRI0svU",
        "outputId": "6b874ff9-e488-4699-e8d9-dff11e63ce6e"
      },
      "execution_count": 11,
      "outputs": [
        {
          "output_type": "stream",
          "name": "stdout",
          "text": [
            "4,6\n"
          ]
        }
      ]
    },
    {
      "cell_type": "code",
      "source": [
        "#11.\n",
        "class Person:\n",
        "    def __init__(self,name,age):\n",
        "        self.name = name\n",
        "        self.age = age\n",
        "\n",
        "    def greet(self):\n",
        "        print (f\"My name is {self.name} and i am {self.age} years old\")\n",
        "\n",
        "P1 = Person(\"Shyam\",\"21\")\n",
        "P2 = Person(\"Vicky\",\"22\")\n",
        "\n",
        "P1.greet()\n",
        "P2.greet()"
      ],
      "metadata": {
        "colab": {
          "base_uri": "https://localhost:8080/"
        },
        "id": "lWTYVcc101KF",
        "outputId": "c095f52a-37ba-4fe1-81f1-cf0e0146d51f"
      },
      "execution_count": 12,
      "outputs": [
        {
          "output_type": "stream",
          "name": "stdout",
          "text": [
            "My name is Shyam and i am 21 years old\n",
            "My name is Vicky and i am 22 years old\n"
          ]
        }
      ]
    },
    {
      "cell_type": "code",
      "source": [
        "#12.\n",
        "class Student:\n",
        "    def __init__(self,name,grades):\n",
        "        self.name = name\n",
        "        self.grades = grades\n",
        "\n",
        "    def average_grade(self):\n",
        "        return sum(self.grades)/len(self.grades)\n",
        "\n",
        "std1 = Student(\"Rohan\",[85,65,48,68])\n",
        "std2 = Student(\"Shyam\",[58,69,74,88])\n",
        "\n",
        "print (f\"{std1.name}'s average grades is {std1.average_grade()}\")\n",
        "print (f\"{std2.name}'s average grades is {std2.average_grade()}\")"
      ],
      "metadata": {
        "colab": {
          "base_uri": "https://localhost:8080/"
        },
        "id": "ChIMYPQ50-7F",
        "outputId": "bac23be0-c220-41f9-dd1f-2c83eae50d6d"
      },
      "execution_count": 13,
      "outputs": [
        {
          "output_type": "stream",
          "name": "stdout",
          "text": [
            "Rohan's average grades is 66.5\n",
            "Shyam's average grades is 72.25\n"
          ]
        }
      ]
    },
    {
      "cell_type": "code",
      "source": [
        "#13.\n",
        "class Rectangle:\n",
        "    def set_dimension(self,length,breadth):\n",
        "        self.length = length\n",
        "        self.breadth = breadth\n",
        "\n",
        "    def Area(self):\n",
        "        return self.length * self.breadth\n",
        "\n",
        "rect1 = Rectangle()\n",
        "rect1.set_dimension(10,5)\n",
        "\n",
        "print (f\"The area of rectangle is {rect1.Area()}\")"
      ],
      "metadata": {
        "colab": {
          "base_uri": "https://localhost:8080/"
        },
        "id": "dOy8tUZI1F-F",
        "outputId": "b0ea0a9c-9fa1-46fd-9f76-60d7008da4a6"
      },
      "execution_count": 14,
      "outputs": [
        {
          "output_type": "stream",
          "name": "stdout",
          "text": [
            "The area of rectangle is 50\n"
          ]
        }
      ]
    },
    {
      "cell_type": "code",
      "source": [
        "#14.\n",
        "class Employee:\n",
        "    def calculate_salary(self,hours_worked,hourly_rate):\n",
        "        return hours_worked * hourly_rate\n",
        "\n",
        "class Manager:\n",
        "    def calculate_salary(self,hours_worked,hourly_rate,bonus):\n",
        "        return (hours_worked * hourly_rate) + bonus\n",
        "\n",
        "emp1 = Employee()\n",
        "print (f\"Employee Salary {emp1.calculate_salary(8,500)}\")\n",
        "\n",
        "emp1 = Manager()\n",
        "print (f\"Employee Salary after bonus {emp1.calculate_salary(8,500,5000)}\")"
      ],
      "metadata": {
        "colab": {
          "base_uri": "https://localhost:8080/"
        },
        "id": "KPlkqKPs1NNJ",
        "outputId": "d87bb199-91ab-4486-d0a9-c8a4e9e2997f"
      },
      "execution_count": 15,
      "outputs": [
        {
          "output_type": "stream",
          "name": "stdout",
          "text": [
            "Employee Salary 4000\n",
            "Employee Salary after bonus 9000\n"
          ]
        }
      ]
    },
    {
      "cell_type": "code",
      "source": [
        "#15.\n",
        "class Product:\n",
        "    def __init__(self,name,price,quantity):\n",
        "        self.name = name\n",
        "        self.price = price\n",
        "        self.quantity = quantity\n",
        "\n",
        "    def total_price(self):\n",
        "        return self.quantity * self.price\n",
        "\n",
        "p1 = Product(\"chocolates\",50,10)\n",
        "p2 = Product(\"Ice-cream\",50,20)\n",
        "print (f\"Total Price of Chocolates {p1.total_price()}\")\n",
        "print (f\"Total Price of Ice-creams {p2.total_price()}\")"
      ],
      "metadata": {
        "colab": {
          "base_uri": "https://localhost:8080/"
        },
        "id": "ZDZbMspK1bhj",
        "outputId": "773be07b-d100-472b-df6f-44c79da47c9e"
      },
      "execution_count": 16,
      "outputs": [
        {
          "output_type": "stream",
          "name": "stdout",
          "text": [
            "Total Price of Chocolates 500\n",
            "Total Price of Ice-creams 1000\n"
          ]
        }
      ]
    },
    {
      "cell_type": "code",
      "source": [
        "#16.\n",
        "from abc import ABC , abstractmethod\n",
        "\n",
        "class Animal:\n",
        "    @abstractmethod\n",
        "    def sound (self):\n",
        "        pass\n",
        "\n",
        "\n",
        "class Cow(Animal):\n",
        "    def sound(self):\n",
        "        print (\"Mooo\")\n",
        "\n",
        "class Sheep(Animal):\n",
        "    def sound(self):\n",
        "        print (\"Baaa\")\n",
        "\n",
        "cow = Cow()\n",
        "sheep = Sheep()\n",
        "\n",
        "cow.sound()\n",
        "sheep.sound()"
      ],
      "metadata": {
        "colab": {
          "base_uri": "https://localhost:8080/"
        },
        "id": "X9oOuA9e1jil",
        "outputId": "96b9fdd8-7283-419b-d2c0-8eb7deacf7fc"
      },
      "execution_count": 17,
      "outputs": [
        {
          "output_type": "stream",
          "name": "stdout",
          "text": [
            "Mooo\n",
            "Baaa\n"
          ]
        }
      ]
    },
    {
      "cell_type": "code",
      "source": [
        "#17.\n",
        "class Book:\n",
        "    def __init__(self,title,author,year_published):\n",
        "        self.title = title\n",
        "        self.author = author\n",
        "        self.year_published = year_published\n",
        "\n",
        "    def get_book_info(self):\n",
        "        print (f\"{self.title} by {self.author} is published in year {self.year_published}\")\n",
        "\n",
        "book = Book(\"python crash course\",\"Eric Matthes\",2019)\n",
        "book.get_book_info()"
      ],
      "metadata": {
        "colab": {
          "base_uri": "https://localhost:8080/"
        },
        "id": "OkDRIvii1sWM",
        "outputId": "ed0988de-eb06-457d-c0ed-2f6e17fc163f"
      },
      "execution_count": 18,
      "outputs": [
        {
          "output_type": "stream",
          "name": "stdout",
          "text": [
            "python crash course by Eric Matthes is published in year 2019\n"
          ]
        }
      ]
    },
    {
      "cell_type": "code",
      "source": [
        "#18.\n",
        "class House:\n",
        "    def __init__(self,address,price):\n",
        "        self.address = address\n",
        "        self.price = price\n",
        "\n",
        "class Mansion(House):\n",
        "    def __init__(self,address,price,number_of_rooms):\n",
        "        House.__init__(self,address,price)\n",
        "        self.number_of_rooms = number_of_rooms\n",
        "\n",
        "house  = House(\"123 Main Street\", 500000)\n",
        "mansion = Mansion(\"456 Luxury Lane\", 2000000, 12)\n",
        "\n",
        "print(\"House Address:\", house.address, \"| Price:\", house.price)\n",
        "print(\"Mansion Address:\", mansion.address, \"| Price:\", mansion.price, \"| Rooms:\", mansion.number_of_rooms)"
      ],
      "metadata": {
        "colab": {
          "base_uri": "https://localhost:8080/"
        },
        "id": "2w8f91dc1zHO",
        "outputId": "bc4d702a-d0ae-4b26-d2d6-844effca9813"
      },
      "execution_count": 19,
      "outputs": [
        {
          "output_type": "stream",
          "name": "stdout",
          "text": [
            "House Address: 123 Main Street | Price: 500000\n",
            "Mansion Address: 456 Luxury Lane | Price: 2000000 | Rooms: 12\n"
          ]
        }
      ]
    }
  ]
}